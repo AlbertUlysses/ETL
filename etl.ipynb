{
 "cells": [
  {
   "cell_type": "code",
   "execution_count": 2,
   "metadata": {},
   "outputs": [],
   "source": [
    "import os\n",
    "import glob\n",
    "import pandas as pd\n",
    "import psycopg2 as pg2\n",
    "from sql_queries import *"
   ]
  },
  {
   "cell_type": "code",
   "execution_count": 3,
   "metadata": {},
   "outputs": [],
   "source": [
    "conn = pg2.connect(database = 'governmentpayroll', user = 'postgres', password = 'poop1234' )\n",
    "cur = conn.cursor()"
   ]
  },
  {
   "cell_type": "code",
   "execution_count": 4,
   "metadata": {},
   "outputs": [],
   "source": [
    "def get_files(filepath):\n",
    "    all_files = []\n",
    "    for root, dirs, files in os.walk(filepath):\n",
    "        files = glob.glob(os.path.join(root, '*.csv'))\n",
    "        for f in files:\n",
    "            all_files.append(os.path.abspath(f))\n",
    "    return all_files"
   ]
  },
  {
   "cell_type": "code",
   "execution_count": 5,
   "metadata": {},
   "outputs": [
    {
     "data": {
      "text/plain": [
       "'C:\\\\Users\\\\alber\\\\Desktop\\\\myWork\\\\projects\\\\ETL\\\\payroll\\\\Payroll_Report_-_End_Date_1_23_2019.csv'"
      ]
     },
     "execution_count": 5,
     "metadata": {},
     "output_type": "execute_result"
    }
   ],
   "source": [
    "files = get_files('payroll')\n",
    "files[0]"
   ]
  },
  {
   "cell_type": "code",
   "execution_count": 6,
   "metadata": {},
   "outputs": [
    {
     "data": {
      "text/html": [
       "<div>\n",
       "<style scoped>\n",
       "    .dataframe tbody tr th:only-of-type {\n",
       "        vertical-align: middle;\n",
       "    }\n",
       "\n",
       "    .dataframe tbody tr th {\n",
       "        vertical-align: top;\n",
       "    }\n",
       "\n",
       "    .dataframe thead th {\n",
       "        text-align: right;\n",
       "    }\n",
       "</style>\n",
       "<table border=\"1\" class=\"dataframe\">\n",
       "  <thead>\n",
       "    <tr style=\"text-align: right;\">\n",
       "      <th></th>\n",
       "      <th>EMPLOYEE_NAME</th>\n",
       "      <th>OFFICE</th>\n",
       "      <th>CITY</th>\n",
       "      <th>EMPLOYEE_TITLE</th>\n",
       "      <th>BIWEEKLY/HOURLY_RATE</th>\n",
       "      <th>PAYROLL_TYPE</th>\n",
       "      <th>PAY_PERIOD</th>\n",
       "      <th>PAY_PERIOD_BEGIN_DATE</th>\n",
       "      <th>PAY_PERIOD_END_DATE</th>\n",
       "      <th>CHECK_DATE</th>\n",
       "      <th>LEGISLATIVE_ENTITY</th>\n",
       "    </tr>\n",
       "  </thead>\n",
       "  <tbody>\n",
       "    <tr>\n",
       "      <th>0</th>\n",
       "      <td>ABBOT, JUDITH L</td>\n",
       "      <td>SENATOR TOBY ANN STAVISKY</td>\n",
       "      <td>FLUSHING</td>\n",
       "      <td>COMMUNITY LIAISON</td>\n",
       "      <td>1076.93</td>\n",
       "      <td>SA</td>\n",
       "      <td>21</td>\n",
       "      <td>01/10/2019 12:00:00 AM</td>\n",
       "      <td>01/23/2019 12:00:00 AM</td>\n",
       "      <td>02/06/2019 12:00:00 AM</td>\n",
       "      <td>SENATE EMPLOYEE</td>\n",
       "    </tr>\n",
       "    <tr>\n",
       "      <th>1</th>\n",
       "      <td>ABRAHAM, PRINCY A</td>\n",
       "      <td>MINORITY COUNSEL/PROGRAM</td>\n",
       "      <td>ALBANY</td>\n",
       "      <td>ASSOCIATE COUNSEL</td>\n",
       "      <td>2376.93</td>\n",
       "      <td>RA</td>\n",
       "      <td>21</td>\n",
       "      <td>01/10/2019 12:00:00 AM</td>\n",
       "      <td>01/23/2019 12:00:00 AM</td>\n",
       "      <td>02/06/2019 12:00:00 AM</td>\n",
       "      <td>SENATE EMPLOYEE</td>\n",
       "    </tr>\n",
       "    <tr>\n",
       "      <th>2</th>\n",
       "      <td>ABREU, BRIAN A</td>\n",
       "      <td>LEGISLATIVE MESSENGER SERVICE</td>\n",
       "      <td>ALBANY</td>\n",
       "      <td>MESSENGER</td>\n",
       "      <td>1173.93</td>\n",
       "      <td>RA</td>\n",
       "      <td>21</td>\n",
       "      <td>01/10/2019 12:00:00 AM</td>\n",
       "      <td>01/23/2019 12:00:00 AM</td>\n",
       "      <td>02/06/2019 12:00:00 AM</td>\n",
       "      <td>JOINT LEGISLATIVE EMPLOYEE</td>\n",
       "    </tr>\n",
       "    <tr>\n",
       "      <th>3</th>\n",
       "      <td>ACEVEDO, SAMANTHA I</td>\n",
       "      <td>SENATOR JESSICA RAMOS</td>\n",
       "      <td>ALBANY</td>\n",
       "      <td>COMMITTEE DIRECTOR</td>\n",
       "      <td>2115.39</td>\n",
       "      <td>RA</td>\n",
       "      <td>21</td>\n",
       "      <td>01/10/2019 12:00:00 AM</td>\n",
       "      <td>01/23/2019 12:00:00 AM</td>\n",
       "      <td>02/06/2019 12:00:00 AM</td>\n",
       "      <td>SENATE EMPLOYEE</td>\n",
       "    </tr>\n",
       "    <tr>\n",
       "      <th>4</th>\n",
       "      <td>ADAMS, DAVID V</td>\n",
       "      <td>SENATE SERGEANT-AT-ARMS</td>\n",
       "      <td>ALBANY</td>\n",
       "      <td>SESSION SERGEANT-AT-ARMS</td>\n",
       "      <td>820.95</td>\n",
       "      <td>SA</td>\n",
       "      <td>21</td>\n",
       "      <td>01/10/2019 12:00:00 AM</td>\n",
       "      <td>01/23/2019 12:00:00 AM</td>\n",
       "      <td>02/06/2019 12:00:00 AM</td>\n",
       "      <td>SENATE EMPLOYEE</td>\n",
       "    </tr>\n",
       "  </tbody>\n",
       "</table>\n",
       "</div>"
      ],
      "text/plain": [
       "         EMPLOYEE_NAME                         OFFICE      CITY  \\\n",
       "0      ABBOT, JUDITH L      SENATOR TOBY ANN STAVISKY  FLUSHING   \n",
       "1    ABRAHAM, PRINCY A       MINORITY COUNSEL/PROGRAM    ALBANY   \n",
       "2       ABREU, BRIAN A  LEGISLATIVE MESSENGER SERVICE    ALBANY   \n",
       "3  ACEVEDO, SAMANTHA I          SENATOR JESSICA RAMOS    ALBANY   \n",
       "4       ADAMS, DAVID V        SENATE SERGEANT-AT-ARMS    ALBANY   \n",
       "\n",
       "             EMPLOYEE_TITLE BIWEEKLY/HOURLY_RATE PAYROLL_TYPE PAY_PERIOD  \\\n",
       "0         COMMUNITY LIAISON              1076.93           SA         21   \n",
       "1         ASSOCIATE COUNSEL              2376.93           RA         21   \n",
       "2                 MESSENGER              1173.93           RA         21   \n",
       "3        COMMITTEE DIRECTOR              2115.39           RA         21   \n",
       "4  SESSION SERGEANT-AT-ARMS               820.95           SA         21   \n",
       "\n",
       "    PAY_PERIOD_BEGIN_DATE     PAY_PERIOD_END_DATE              CHECK_DATE  \\\n",
       "0  01/10/2019 12:00:00 AM  01/23/2019 12:00:00 AM  02/06/2019 12:00:00 AM   \n",
       "1  01/10/2019 12:00:00 AM  01/23/2019 12:00:00 AM  02/06/2019 12:00:00 AM   \n",
       "2  01/10/2019 12:00:00 AM  01/23/2019 12:00:00 AM  02/06/2019 12:00:00 AM   \n",
       "3  01/10/2019 12:00:00 AM  01/23/2019 12:00:00 AM  02/06/2019 12:00:00 AM   \n",
       "4  01/10/2019 12:00:00 AM  01/23/2019 12:00:00 AM  02/06/2019 12:00:00 AM   \n",
       "\n",
       "           LEGISLATIVE_ENTITY  \n",
       "0             SENATE EMPLOYEE  \n",
       "1             SENATE EMPLOYEE  \n",
       "2  JOINT LEGISLATIVE EMPLOYEE  \n",
       "3             SENATE EMPLOYEE  \n",
       "4             SENATE EMPLOYEE  "
      ]
     },
     "execution_count": 6,
     "metadata": {},
     "output_type": "execute_result"
    }
   ],
   "source": [
    "jan23 = pd.read_csv(files[0], dtype = object)\n",
    "jan23.head()"
   ]
  },
  {
   "cell_type": "code",
   "execution_count": 7,
   "metadata": {},
   "outputs": [
    {
     "data": {
      "text/plain": [
       "PAY_PERIOD                                   21\n",
       "PAY_PERIOD_BEGIN_DATE    01/10/2019 12:00:00 AM\n",
       "PAY_PERIOD_END_DATE      01/23/2019 12:00:00 AM\n",
       "CHECK_DATE               02/06/2019 12:00:00 AM\n",
       "Name: 0, dtype: object"
      ]
     },
     "execution_count": 7,
     "metadata": {},
     "output_type": "execute_result"
    }
   ],
   "source": [
    "payperiod_data = jan23.loc[0,['PAY_PERIOD', 'PAY_PERIOD_BEGIN_DATE', 'PAY_PERIOD_END_DATE', 'CHECK_DATE']]\n",
    "payperiod_data"
   ]
  },
  {
   "cell_type": "code",
   "execution_count": 8,
   "metadata": {},
   "outputs": [],
   "source": [
    "cur.execute(pay_period_table_insert, payperiod_data)\n",
    "conn.commit()"
   ]
  },
  {
   "cell_type": "code",
   "execution_count": 8,
   "metadata": {},
   "outputs": [
    {
     "name": "stdout",
     "output_type": "stream",
     "text": [
      "1248 1248\n"
     ]
    }
   ],
   "source": [
    "def isOneToOne(df, col1, col2):\n",
    "    first = df.drop_duplicates([col1, col2]).groupby(col1)[col2].count().max()\n",
    "    second = df.drop_duplicates([col1, col2]).groupby(col2)[col1].count().max()\n",
    "    return first + second == 2\n",
    "\n",
    "isOneToOne(jan_mod, 'LEGISLATIVE_ENTITY', 'EMPLOYEE_NAME')\n",
    "\n",
    "first = jan23.groupby('PAY_PERIOD')['PAY_PERIOD_END_DATE'].count().max()\n",
    "second = jan23.groupby('PAY_PERIOD_END_DATE')['PAY_PERIOD'].count().max()\n",
    "print(first, second)"
   ]
  },
  {
   "cell_type": "code",
   "execution_count": 17,
   "metadata": {},
   "outputs": [
    {
     "ename": "OperationalError",
     "evalue": "FATAL:  database \"governmentpayroll\" does not exist\n",
     "output_type": "error",
     "traceback": [
      "\u001b[1;31m---------------------------------------------------------------------------\u001b[0m",
      "\u001b[1;31mOperationalError\u001b[0m                          Traceback (most recent call last)",
      "\u001b[1;32m<ipython-input-17-b87240c08df1>\u001b[0m in \u001b[0;36m<module>\u001b[1;34m\u001b[0m\n\u001b[1;32m----> 1\u001b[1;33m \u001b[0mconn\u001b[0m \u001b[1;33m=\u001b[0m \u001b[0mpg2\u001b[0m\u001b[1;33m.\u001b[0m\u001b[0mconnect\u001b[0m\u001b[1;33m(\u001b[0m\u001b[0mdatabase\u001b[0m \u001b[1;33m=\u001b[0m \u001b[1;34m'governmentpayroll'\u001b[0m\u001b[1;33m,\u001b[0m \u001b[0muser\u001b[0m \u001b[1;33m=\u001b[0m \u001b[1;34m'postgres'\u001b[0m\u001b[1;33m,\u001b[0m \u001b[0mpassword\u001b[0m \u001b[1;33m=\u001b[0m \u001b[1;34m'poop1234'\u001b[0m\u001b[1;33m)\u001b[0m\u001b[1;33m\u001b[0m\u001b[1;33m\u001b[0m\u001b[0m\n\u001b[0m\u001b[0;32m      2\u001b[0m \u001b[0mcur\u001b[0m \u001b[1;33m=\u001b[0m \u001b[0mconn\u001b[0m\u001b[1;33m.\u001b[0m\u001b[0mcursor\u001b[0m\u001b[1;33m(\u001b[0m\u001b[1;33m)\u001b[0m\u001b[1;33m\u001b[0m\u001b[1;33m\u001b[0m\u001b[0m\n",
      "\u001b[1;32m~\\Anaconda3\\envs\\ETL\\lib\\site-packages\\psycopg2\\__init__.py\u001b[0m in \u001b[0;36mconnect\u001b[1;34m(dsn, connection_factory, cursor_factory, **kwargs)\u001b[0m\n\u001b[0;32m    124\u001b[0m \u001b[1;33m\u001b[0m\u001b[0m\n\u001b[0;32m    125\u001b[0m     \u001b[0mdsn\u001b[0m \u001b[1;33m=\u001b[0m \u001b[0m_ext\u001b[0m\u001b[1;33m.\u001b[0m\u001b[0mmake_dsn\u001b[0m\u001b[1;33m(\u001b[0m\u001b[0mdsn\u001b[0m\u001b[1;33m,\u001b[0m \u001b[1;33m**\u001b[0m\u001b[0mkwargs\u001b[0m\u001b[1;33m)\u001b[0m\u001b[1;33m\u001b[0m\u001b[1;33m\u001b[0m\u001b[0m\n\u001b[1;32m--> 126\u001b[1;33m     \u001b[0mconn\u001b[0m \u001b[1;33m=\u001b[0m \u001b[0m_connect\u001b[0m\u001b[1;33m(\u001b[0m\u001b[0mdsn\u001b[0m\u001b[1;33m,\u001b[0m \u001b[0mconnection_factory\u001b[0m\u001b[1;33m=\u001b[0m\u001b[0mconnection_factory\u001b[0m\u001b[1;33m,\u001b[0m \u001b[1;33m**\u001b[0m\u001b[0mkwasync\u001b[0m\u001b[1;33m)\u001b[0m\u001b[1;33m\u001b[0m\u001b[1;33m\u001b[0m\u001b[0m\n\u001b[0m\u001b[0;32m    127\u001b[0m     \u001b[1;32mif\u001b[0m \u001b[0mcursor_factory\u001b[0m \u001b[1;32mis\u001b[0m \u001b[1;32mnot\u001b[0m \u001b[1;32mNone\u001b[0m\u001b[1;33m:\u001b[0m\u001b[1;33m\u001b[0m\u001b[1;33m\u001b[0m\u001b[0m\n\u001b[0;32m    128\u001b[0m         \u001b[0mconn\u001b[0m\u001b[1;33m.\u001b[0m\u001b[0mcursor_factory\u001b[0m \u001b[1;33m=\u001b[0m \u001b[0mcursor_factory\u001b[0m\u001b[1;33m\u001b[0m\u001b[1;33m\u001b[0m\u001b[0m\n",
      "\u001b[1;31mOperationalError\u001b[0m: FATAL:  database \"governmentpayroll\" does not exist\n"
     ]
    }
   ],
   "source": []
  },
  {
   "cell_type": "code",
   "execution_count": null,
   "metadata": {},
   "outputs": [],
   "source": []
  }
 ],
 "metadata": {
  "kernelspec": {
   "display_name": "Python 3",
   "language": "python",
   "name": "python3"
  },
  "language_info": {
   "codemirror_mode": {
    "name": "ipython",
    "version": 3
   },
   "file_extension": ".py",
   "mimetype": "text/x-python",
   "name": "python",
   "nbconvert_exporter": "python",
   "pygments_lexer": "ipython3",
   "version": "3.7.3"
  }
 },
 "nbformat": 4,
 "nbformat_minor": 2
}
