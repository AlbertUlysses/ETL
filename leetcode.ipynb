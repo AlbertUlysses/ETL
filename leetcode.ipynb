{
 "cells": [
  {
   "cell_type": "code",
   "execution_count": 1,
   "metadata": {},
   "outputs": [],
   "source": [
    "val = 4.5\n",
    "val1 = 7\n",
    "word = 'hello'"
   ]
  },
  {
   "cell_type": "code",
   "execution_count": 2,
   "metadata": {},
   "outputs": [
    {
     "data": {
      "text/plain": [
       "2"
      ]
     },
     "execution_count": 2,
     "metadata": {},
     "output_type": "execute_result"
    }
   ],
   "source": [
    "word.upper() #cap all letters\n",
    "word.lower() #lower all letters\n",
    "word.title() #Cap first letter\n",
    "word.strip() #removes spaces and any other specified characters\n",
    "word.find('l') # returns the first ideration of the specified letter\n",
    "word.replace('l', '1') #replaces the first specified with second\n",
    "\"h\" in word # returns a boolean true or false if a character is in a sting\n",
    "word.count('l') # returns the number of 'l' in a string\n"
   ]
  },
  {
   "cell_type": "code",
   "execution_count": 3,
   "metadata": {},
   "outputs": [
    {
     "name": "stdout",
     "output_type": "stream",
     "text": [
      "no\n"
     ]
    }
   ],
   "source": [
    "S = []\n",
    "\n",
    "if not S:\n",
    "    print('no')\n",
    "else:\n",
    "    print('yes')"
   ]
  },
  {
   "cell_type": "code",
   "execution_count": 4,
   "metadata": {},
   "outputs": [
    {
     "name": "stdout",
     "output_type": "stream",
     "text": [
      "[2, 1, 4, 3, 6, 5]\n"
     ]
    }
   ],
   "source": [
    "_list = [1, 3, 2, 4, 6, 5, 8]\n",
    "\n",
    "odd = []\n",
    "even = []\n",
    "even_odd = []\n",
    "for x, i in enumerate(_list):\n",
    "    if i%2 == 0:\n",
    "        even.append(i)\n",
    "    else:\n",
    "        odd.append(i)\n",
    "for x, i in zip(even, odd):\n",
    "    if even:\n",
    "        even_odd.append(x)\n",
    "    even_odd.append(i)\n",
    "print(even_odd)\n"
   ]
  },
  {
   "cell_type": "code",
   "execution_count": 41,
   "metadata": {},
   "outputs": [
    {
     "data": {
      "text/plain": [
       "[2, 4, 6, 1, 3, 3]"
      ]
     },
     "execution_count": 41,
     "metadata": {},
     "output_type": "execute_result"
    }
   ],
   "source": [
    "square = [2, 4, 6, 1, 3, 3]\n",
    "_list = []\n",
    "_list.extend([i for x, i in enumerate(square)])\n",
    "_list\n"
   ]
  },
  {
   "cell_type": "code",
   "execution_count": 46,
   "metadata": {},
   "outputs": [
    {
     "data": {
      "text/plain": [
       "[1, 2, 3, 10, 20, 30]"
      ]
     },
     "execution_count": 46,
     "metadata": {},
     "output_type": "execute_result"
    }
   ],
   "source": [
    "ones = [1, 2, 3]\n",
    "tens = [10, 20, 30]\n",
    "[*ones, *tens]\n"
   ]
  }
 ],
 "metadata": {
  "kernelspec": {
   "display_name": "Python 3",
   "language": "python",
   "name": "python3"
  },
  "language_info": {
   "codemirror_mode": {
    "name": "ipython",
    "version": 3
   },
   "file_extension": ".py",
   "mimetype": "text/x-python",
   "name": "python",
   "nbconvert_exporter": "python",
   "pygments_lexer": "ipython3",
   "version": "3.7.3"
  }
 },
 "nbformat": 4,
 "nbformat_minor": 2
}
